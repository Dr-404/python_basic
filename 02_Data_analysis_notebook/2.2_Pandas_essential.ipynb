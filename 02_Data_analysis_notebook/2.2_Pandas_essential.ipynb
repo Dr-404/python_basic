{
 "cells": [
  {
   "cell_type": "markdown",
   "id": "a05a46e6",
   "metadata": {},
   "source": [
    "# Pandas Module\n",
    "\n"
   ]
  },
  {
   "cell_type": "code",
   "execution_count": 36,
   "id": "b12b18c5",
   "metadata": {},
   "outputs": [],
   "source": [
    "import pandas as pd\n",
    "import numpy as np\n",
    "import matplotlib.pyplot as plt"
   ]
  },
  {
   "cell_type": "markdown",
   "id": "cf49753e",
   "metadata": {},
   "source": [
    "## Pandas Data Type\n",
    "    - Pandas Series\n",
    "    - Pandas Data Frame (like Excel Table)\n",
    "    \n",
    "    "
   ]
  },
  {
   "cell_type": "markdown",
   "id": "769ed944",
   "metadata": {},
   "source": [
    "# Pandas Series (ordered sequence of element)"
   ]
  },
  {
   "cell_type": "code",
   "execution_count": 37,
   "id": "5486e344",
   "metadata": {},
   "outputs": [
    {
     "data": {
      "text/plain": [
       "0     35.467\n",
       "1     63.951\n",
       "2     80.948\n",
       "3     60.665\n",
       "4    127.861\n",
       "5     64.511\n",
       "6    318.523\n",
       "dtype: float64"
      ]
     },
     "execution_count": 37,
     "metadata": {},
     "output_type": "execute_result"
    }
   ],
   "source": [
    "# G7 Countries population data\n",
    "\n",
    "\n",
    "g7_pop = pd.Series([35.467,63.951,80.948,60.665,127.861,64.511,318.523])\n",
    "g7_pop\n"
   ]
  },
  {
   "cell_type": "code",
   "execution_count": 38,
   "id": "d5ddf68c",
   "metadata": {},
   "outputs": [
    {
     "data": {
      "text/plain": [
       "0     35.467\n",
       "1     63.951\n",
       "2     80.948\n",
       "3     60.665\n",
       "4    127.861\n",
       "5     64.511\n",
       "6    318.523\n",
       "Name: G7 Population in millions, dtype: float64"
      ]
     },
     "execution_count": 38,
     "metadata": {},
     "output_type": "execute_result"
    }
   ],
   "source": [
    "# Naming the Data Seires\n",
    "\n",
    "g7_pop.name = \"G7 Population in millions\"\n",
    "g7_pop"
   ]
  },
  {
   "cell_type": "code",
   "execution_count": null,
   "id": "657d4f3a",
   "metadata": {
    "scrolled": true
   },
   "outputs": [],
   "source": [
    "\n",
    " "
   ]
  },
  {
   "cell_type": "code",
   "execution_count": 39,
   "id": "7b118904",
   "metadata": {},
   "outputs": [
    {
     "data": {
      "text/plain": [
       "array([ 35.467,  63.951,  80.948,  60.665, 127.861,  64.511, 318.523])"
      ]
     },
     "execution_count": 39,
     "metadata": {},
     "output_type": "execute_result"
    }
   ],
   "source": [
    "# Check the values \n",
    "g7_pop.values"
   ]
  },
  {
   "cell_type": "markdown",
   "id": "fd219141",
   "metadata": {},
   "source": [
    "## Inedxing"
   ]
  },
  {
   "cell_type": "code",
   "execution_count": 40,
   "id": "1621e4a2",
   "metadata": {},
   "outputs": [
    {
     "data": {
      "text/plain": [
       "63.951"
      ]
     },
     "execution_count": 40,
     "metadata": {},
     "output_type": "execute_result"
    }
   ],
   "source": [
    "# Indexing (Similar python list)\n",
    "\n",
    "g7_pop[1]\n"
   ]
  },
  {
   "cell_type": "code",
   "execution_count": 41,
   "id": "e06c29dc",
   "metadata": {},
   "outputs": [
    {
     "data": {
      "text/plain": [
       "Canada             35.467\n",
       "France             63.951\n",
       "Germany            80.948\n",
       "Italy              60.665\n",
       "Japan             127.861\n",
       "United Kingdom     64.511\n",
       "United States     318.523\n",
       "Name: G7 Population in millions, dtype: float64"
      ]
     },
     "execution_count": 41,
     "metadata": {},
     "output_type": "execute_result"
    }
   ],
   "source": [
    "# Changing index of the sereis\n",
    "\n",
    "\n",
    "g7_pop.index = [\n",
    "    'Canada',\n",
    "    'France',\n",
    "    'Germany',\n",
    "    'Italy',\n",
    "    'Japan',\n",
    "    'United Kingdom',\n",
    "    'United States'\n",
    "    \n",
    "    \n",
    "]\n",
    "\n",
    "g7_pop"
   ]
  },
  {
   "cell_type": "code",
   "execution_count": 42,
   "id": "3860fcb3",
   "metadata": {},
   "outputs": [
    {
     "data": {
      "text/plain": [
       "Canada             35.467\n",
       "France             63.951\n",
       "Germany            80.948\n",
       "Italy              60.665\n",
       "Japan             127.861\n",
       "United Kingdom     64.511\n",
       "United States     318.523\n",
       "dtype: float64"
      ]
     },
     "execution_count": 42,
     "metadata": {},
     "output_type": "execute_result"
    }
   ],
   "source": [
    "# Creating pandas Series using dictionary\n",
    "pd.Series({\n",
    "    'Canada'   :  35.467,\n",
    "    'France'   :  63.951,\n",
    "    'Germany'  :  80.948,\n",
    "    'Italy'    :  60.665,\n",
    "    'Japan'    :  127.861,\n",
    "    'United Kingdom' :   64.511,\n",
    "    'United States'  :   318.523,\n",
    "    \n",
    "    \n",
    "})\n",
    "\n",
    "\n",
    "\n",
    "\n",
    "\n"
   ]
  },
  {
   "cell_type": "markdown",
   "id": "bc9a2618",
   "metadata": {},
   "source": [
    "## Selecting Data using index\n",
    "- pandas series are orderded\n",
    "- After nameing index, you can also access the data using numerical index such as `g7_pop[0]`"
   ]
  },
  {
   "cell_type": "code",
   "execution_count": 43,
   "id": "f8975af9",
   "metadata": {},
   "outputs": [
    {
     "data": {
      "text/plain": [
       "63.951"
      ]
     },
     "execution_count": 43,
     "metadata": {},
     "output_type": "execute_result"
    }
   ],
   "source": [
    "# Using Index to show data\n",
    "\n",
    "g7_pop['France']"
   ]
  },
  {
   "cell_type": "code",
   "execution_count": 44,
   "id": "5cdf883c",
   "metadata": {},
   "outputs": [
    {
     "data": {
      "text/plain": [
       "63.951"
      ]
     },
     "execution_count": 44,
     "metadata": {},
     "output_type": "execute_result"
    }
   ],
   "source": [
    "g7_pop[1]"
   ]
  },
  {
   "cell_type": "code",
   "execution_count": 45,
   "id": "17f7f152",
   "metadata": {},
   "outputs": [
    {
     "data": {
      "text/plain": [
       "63.951"
      ]
     },
     "execution_count": 45,
     "metadata": {},
     "output_type": "execute_result"
    }
   ],
   "source": [
    "g7_pop.iloc[1]"
   ]
  },
  {
   "cell_type": "markdown",
   "id": "d7b79a07",
   "metadata": {},
   "source": [
    "## Accessing Multiple element"
   ]
  },
  {
   "cell_type": "code",
   "execution_count": 46,
   "id": "e06a85f0",
   "metadata": {},
   "outputs": [
    {
     "data": {
      "text/plain": [
       "Canada    35.467\n",
       "France    63.951\n",
       "Name: G7 Population in millions, dtype: float64"
      ]
     },
     "execution_count": 46,
     "metadata": {},
     "output_type": "execute_result"
    }
   ],
   "source": [
    "g7_pop[['Canada', 'France']]"
   ]
  },
  {
   "cell_type": "code",
   "execution_count": 47,
   "id": "64e1f834",
   "metadata": {},
   "outputs": [
    {
     "data": {
      "text/plain": [
       "Canada    35.467\n",
       "France    63.951\n",
       "Name: G7 Population in millions, dtype: float64"
      ]
     },
     "execution_count": 47,
     "metadata": {},
     "output_type": "execute_result"
    }
   ],
   "source": [
    "g7_pop[[0,1]]"
   ]
  },
  {
   "cell_type": "markdown",
   "id": "e9a99703",
   "metadata": {},
   "source": [
    "# Slicing\n",
    "- **Slicing also work, but the upper limit is also included**"
   ]
  },
  {
   "cell_type": "code",
   "execution_count": 48,
   "id": "7ec5232a",
   "metadata": {},
   "outputs": [
    {
     "data": {
      "text/plain": [
       "Canada      35.467\n",
       "France      63.951\n",
       "Germany     80.948\n",
       "Italy       60.665\n",
       "Japan      127.861\n",
       "Name: G7 Population in millions, dtype: float64"
      ]
     },
     "execution_count": 48,
     "metadata": {},
     "output_type": "execute_result"
    }
   ],
   "source": [
    "# Slicing using index\n",
    "\n",
    "g7_pop['Canada': 'Japan']"
   ]
  },
  {
   "cell_type": "code",
   "execution_count": 49,
   "id": "a8428c63",
   "metadata": {},
   "outputs": [
    {
     "data": {
      "text/plain": [
       "Canada      35.467\n",
       "France      63.951\n",
       "Germany     80.948\n",
       "Italy       60.665\n",
       "Japan      127.861\n",
       "Name: G7 Population in millions, dtype: float64"
      ]
     },
     "execution_count": 49,
     "metadata": {},
     "output_type": "execute_result"
    }
   ],
   "source": [
    "g7_pop[: 'Japan']"
   ]
  },
  {
   "cell_type": "code",
   "execution_count": 50,
   "id": "41868c1b",
   "metadata": {},
   "outputs": [
    {
     "data": {
      "text/plain": [
       "Canada             35.467\n",
       "France             63.951\n",
       "Germany            80.948\n",
       "Italy              60.665\n",
       "Japan             127.861\n",
       "United Kingdom     64.511\n",
       "United States     318.523\n",
       "Name: G7 Population in millions, dtype: float64"
      ]
     },
     "execution_count": 50,
     "metadata": {},
     "output_type": "execute_result"
    }
   ],
   "source": [
    "g7_pop['Canada': ]"
   ]
  },
  {
   "cell_type": "markdown",
   "id": "3049108c",
   "metadata": {},
   "source": [
    "# Operation"
   ]
  },
  {
   "cell_type": "code",
   "execution_count": 51,
   "id": "3ee3ce80",
   "metadata": {},
   "outputs": [
    {
     "data": {
      "text/plain": [
       "Canada             35467000.0\n",
       "France             63951000.0\n",
       "Germany            80948000.0\n",
       "Italy              60665000.0\n",
       "Japan             127861000.0\n",
       "United Kingdom     64511000.0\n",
       "United States     318523000.0\n",
       "Name: G7 Population in millions, dtype: float64"
      ]
     },
     "execution_count": 51,
     "metadata": {},
     "output_type": "execute_result"
    }
   ],
   "source": [
    "# Multiplication\n",
    "g7_pop * 1000000"
   ]
  },
  {
   "cell_type": "markdown",
   "id": "3d07b629",
   "metadata": {},
   "source": [
    "# What are the countries more than 7 billions?\n"
   ]
  },
  {
   "cell_type": "code",
   "execution_count": 52,
   "id": "130f1aab",
   "metadata": {},
   "outputs": [
    {
     "data": {
      "text/plain": [
       "Canada            False\n",
       "France            False\n",
       "Germany            True\n",
       "Italy             False\n",
       "Japan              True\n",
       "United Kingdom    False\n",
       "United States      True\n",
       "Name: G7 Population in millions, dtype: bool"
      ]
     },
     "execution_count": 52,
     "metadata": {},
     "output_type": "execute_result"
    }
   ],
   "source": [
    "# Simple Comparism (retrun boolean)\n",
    "\n",
    "g7_pop > 70 # Return boolean"
   ]
  },
  {
   "cell_type": "markdown",
   "id": "9957b5eb",
   "metadata": {},
   "source": [
    "# To show detail data"
   ]
  },
  {
   "cell_type": "code",
   "execution_count": 53,
   "id": "9aaa8282",
   "metadata": {},
   "outputs": [
    {
     "data": {
      "text/plain": [
       "Germany           80.948\n",
       "Japan            127.861\n",
       "United States    318.523\n",
       "Name: G7 Population in millions, dtype: float64"
      ]
     },
     "execution_count": 53,
     "metadata": {},
     "output_type": "execute_result"
    }
   ],
   "source": [
    "# Selecting data based on condition\n",
    "g7_pop[g7_pop > 70]"
   ]
  },
  {
   "cell_type": "markdown",
   "id": "8e7d63a0",
   "metadata": {},
   "source": [
    "# The summary of G7_Population"
   ]
  },
  {
   "cell_type": "code",
   "execution_count": 54,
   "id": "2b068f90",
   "metadata": {},
   "outputs": [
    {
     "data": {
      "text/plain": [
       "count      7.000000\n",
       "mean     107.418000\n",
       "std       97.277163\n",
       "min       35.467000\n",
       "25%       62.308000\n",
       "50%       64.511000\n",
       "75%      104.404500\n",
       "max      318.523000\n",
       "Name: G7 Population in millions, dtype: float64"
      ]
     },
     "execution_count": 54,
     "metadata": {},
     "output_type": "execute_result"
    }
   ],
   "source": [
    "# Finding Summary\n",
    "g7_pop.describe()"
   ]
  },
  {
   "cell_type": "markdown",
   "id": "44aa3d82",
   "metadata": {},
   "source": [
    "# Conditional Selection"
   ]
  },
  {
   "cell_type": "markdown",
   "id": "72abc6e2",
   "metadata": {},
   "source": [
    "# What countries have population above 80 million and below 200 millions? (between 80-200 , not exclusive)"
   ]
  },
  {
   "cell_type": "code",
   "execution_count": 132,
   "id": "0ab571c8",
   "metadata": {},
   "outputs": [
    {
     "data": {
      "text/plain": [
       "Series([], Name: G7 Population in millions, dtype: float64)"
      ]
     },
     "execution_count": 132,
     "metadata": {},
     "output_type": "execute_result"
    }
   ],
   "source": [
    "g7_pop[(g7_pop > 80) & (g7_pop < 200)]"
   ]
  },
  {
   "cell_type": "markdown",
   "id": "0b7a05d5",
   "metadata": {},
   "source": [
    "# What countries have population above 80 million and below 200 millions? (between 80-200 , not exclusive)\n"
   ]
  },
  {
   "cell_type": "code",
   "execution_count": null,
   "id": "52fb041d",
   "metadata": {},
   "outputs": [],
   "source": [
    "\n",
    "g7_pop[(g7_pop > 80) & (g7_pop < 200)]"
   ]
  },
  {
   "cell_type": "markdown",
   "id": "964b5ba3",
   "metadata": {},
   "source": [
    "# Modifying Series"
   ]
  },
  {
   "cell_type": "markdown",
   "id": "2b6ee000",
   "metadata": {},
   "source": [
    "## The poulation of Canada is increase to 40.5 million. Please update the database."
   ]
  },
  {
   "cell_type": "code",
   "execution_count": 56,
   "id": "74c0b9ab",
   "metadata": {},
   "outputs": [
    {
     "data": {
      "text/plain": [
       "Canada             40.500\n",
       "France             63.951\n",
       "Germany            80.948\n",
       "Italy              60.665\n",
       "Japan             127.861\n",
       "United Kingdom     64.511\n",
       "United States     318.523\n",
       "Name: G7 Population in millions, dtype: float64"
      ]
     },
     "execution_count": 56,
     "metadata": {},
     "output_type": "execute_result"
    }
   ],
   "source": [
    "g7_pop['Canada'] = 40.5\n",
    "g7_pop"
   ]
  },
  {
   "cell_type": "markdown",
   "id": "4e0a059e",
   "metadata": {},
   "source": [
    "## Recode the countries with population greater than or equal 70 millions into 3 , 50-69 in 2 , 40-49 into 1"
   ]
  },
  {
   "cell_type": "code",
   "execution_count": 57,
   "id": "c8d93962",
   "metadata": {},
   "outputs": [
    {
     "data": {
      "text/plain": [
       "Canada            1.0\n",
       "France            2.0\n",
       "Italy             2.0\n",
       "United Kingdom    2.0\n",
       "Germany           3.0\n",
       "Japan             3.0\n",
       "United States     3.0\n",
       "Name: G7 Population in millions, dtype: float64"
      ]
     },
     "execution_count": 57,
     "metadata": {},
     "output_type": "execute_result"
    }
   ],
   "source": [
    "# code 1 = 40-49\n",
    "g7_pop[(g7_pop <50) & (g7_pop >= 40)] = 1\n",
    "\n",
    "#Code 2 = 50-59\n",
    "\n",
    "g7_pop[(g7_pop <70) & (g7_pop >= 50)] = 2\n",
    "\n",
    "# code 3 = 70 and above\n",
    "\n",
    "g7_pop[g7_pop >= 70] = 3\n",
    "\n",
    "g7_pop.sort_values()\n",
    "\n"
   ]
  },
  {
   "cell_type": "markdown",
   "id": "9d7f57c3",
   "metadata": {},
   "source": [
    "#  Pandas Data Frame"
   ]
  },
  {
   "cell_type": "markdown",
   "id": "28122b29",
   "metadata": {},
   "source": [
    "![Pandas_DF](../photo/pandasDF.png)"
   ]
  },
  {
   "cell_type": "markdown",
   "id": "f6c2d91b",
   "metadata": {},
   "source": [
    "## `pd.DataFrame()` Function and `Dictionary` Data Type"
   ]
  },
  {
   "cell_type": "markdown",
   "id": "5062c849",
   "metadata": {},
   "source": [
    "##  Adding data to data frame"
   ]
  },
  {
   "cell_type": "code",
   "execution_count": null,
   "id": "6d54cb5d",
   "metadata": {},
   "outputs": [],
   "source": []
  },
  {
   "cell_type": "code",
   "execution_count": null,
   "id": "ac880162",
   "metadata": {},
   "outputs": [],
   "source": []
  },
  {
   "cell_type": "code",
   "execution_count": 59,
   "id": "75c25d11",
   "metadata": {
    "scrolled": true
   },
   "outputs": [],
   "source": [
    "df = pd.DataFrame({\n",
    "    \n",
    "    'population' : [35.467, 63.951,80.94, 60.665,127.061,64.511,318.523],\n",
    "    'gdp' : [\n",
    "        1785387,\n",
    "        2833687,\n",
    "        3874437,\n",
    "        2167744,\n",
    "        4602367,\n",
    "        2950039,\n",
    "        17348075],\n",
    "    'surface' : [\n",
    "        9984670,\n",
    "        640679,\n",
    "        357114,\n",
    "        301336,\n",
    "        377930,\n",
    "        242495,\n",
    "        9525067,\n",
    "    ],\n",
    "    \n",
    "    'hdi' : [\n",
    "        0.913,\n",
    "        0.888,\n",
    "        0.916,\n",
    "        0.873,\n",
    "        0.891,\n",
    "        0.907,\n",
    "        0.915\n",
    "        \n",
    "    ],\n",
    "    \n",
    "    'continment' : [\n",
    "        'America',\n",
    "        'Europe',\n",
    "        'Europe',\n",
    "        'Europe',\n",
    "        'Asia',\n",
    "        'Europe',\n",
    "        'America'\n",
    "    ]\n",
    "        \n",
    "}\n",
    ")"
   ]
  },
  {
   "cell_type": "code",
   "execution_count": 60,
   "id": "b5454327",
   "metadata": {},
   "outputs": [
    {
     "data": {
      "text/html": [
       "<div>\n",
       "<style scoped>\n",
       "    .dataframe tbody tr th:only-of-type {\n",
       "        vertical-align: middle;\n",
       "    }\n",
       "\n",
       "    .dataframe tbody tr th {\n",
       "        vertical-align: top;\n",
       "    }\n",
       "\n",
       "    .dataframe thead th {\n",
       "        text-align: right;\n",
       "    }\n",
       "</style>\n",
       "<table border=\"1\" class=\"dataframe\">\n",
       "  <thead>\n",
       "    <tr style=\"text-align: right;\">\n",
       "      <th></th>\n",
       "      <th>population</th>\n",
       "      <th>gdp</th>\n",
       "      <th>surface</th>\n",
       "      <th>HDI</th>\n",
       "      <th>continment</th>\n",
       "    </tr>\n",
       "  </thead>\n",
       "  <tbody>\n",
       "    <tr>\n",
       "      <th>0</th>\n",
       "      <td>35.467</td>\n",
       "      <td>1785387</td>\n",
       "      <td>9984670</td>\n",
       "      <td>0.913</td>\n",
       "      <td>America</td>\n",
       "    </tr>\n",
       "    <tr>\n",
       "      <th>1</th>\n",
       "      <td>63.951</td>\n",
       "      <td>2833687</td>\n",
       "      <td>640679</td>\n",
       "      <td>0.888</td>\n",
       "      <td>Europe</td>\n",
       "    </tr>\n",
       "    <tr>\n",
       "      <th>2</th>\n",
       "      <td>80.940</td>\n",
       "      <td>3874437</td>\n",
       "      <td>357114</td>\n",
       "      <td>0.916</td>\n",
       "      <td>Europe</td>\n",
       "    </tr>\n",
       "    <tr>\n",
       "      <th>3</th>\n",
       "      <td>60.665</td>\n",
       "      <td>2167744</td>\n",
       "      <td>301336</td>\n",
       "      <td>0.873</td>\n",
       "      <td>Europe</td>\n",
       "    </tr>\n",
       "    <tr>\n",
       "      <th>4</th>\n",
       "      <td>127.061</td>\n",
       "      <td>4602367</td>\n",
       "      <td>377930</td>\n",
       "      <td>0.891</td>\n",
       "      <td>Asia</td>\n",
       "    </tr>\n",
       "    <tr>\n",
       "      <th>5</th>\n",
       "      <td>64.511</td>\n",
       "      <td>2950039</td>\n",
       "      <td>242495</td>\n",
       "      <td>0.907</td>\n",
       "      <td>Europe</td>\n",
       "    </tr>\n",
       "    <tr>\n",
       "      <th>6</th>\n",
       "      <td>318.523</td>\n",
       "      <td>17348075</td>\n",
       "      <td>9525067</td>\n",
       "      <td>0.915</td>\n",
       "      <td>America</td>\n",
       "    </tr>\n",
       "  </tbody>\n",
       "</table>\n",
       "</div>"
      ],
      "text/plain": [
       "   population       gdp  surface    HDI continment\n",
       "0      35.467   1785387  9984670  0.913    America\n",
       "1      63.951   2833687   640679  0.888     Europe\n",
       "2      80.940   3874437   357114  0.916     Europe\n",
       "3      60.665   2167744   301336  0.873     Europe\n",
       "4     127.061   4602367   377930  0.891       Asia\n",
       "5      64.511   2950039   242495  0.907     Europe\n",
       "6     318.523  17348075  9525067  0.915    America"
      ]
     },
     "execution_count": 60,
     "metadata": {},
     "output_type": "execute_result"
    }
   ],
   "source": [
    "df\n"
   ]
  },
  {
   "cell_type": "markdown",
   "id": "d0d1afb1",
   "metadata": {},
   "source": [
    "## Naming index"
   ]
  },
  {
   "cell_type": "code",
   "execution_count": 65,
   "id": "08ca1d3a",
   "metadata": {},
   "outputs": [
    {
     "data": {
      "text/html": [
       "<div>\n",
       "<style scoped>\n",
       "    .dataframe tbody tr th:only-of-type {\n",
       "        vertical-align: middle;\n",
       "    }\n",
       "\n",
       "    .dataframe tbody tr th {\n",
       "        vertical-align: top;\n",
       "    }\n",
       "\n",
       "    .dataframe thead th {\n",
       "        text-align: right;\n",
       "    }\n",
       "</style>\n",
       "<table border=\"1\" class=\"dataframe\">\n",
       "  <thead>\n",
       "    <tr style=\"text-align: right;\">\n",
       "      <th></th>\n",
       "      <th>population</th>\n",
       "      <th>gdp</th>\n",
       "      <th>surface</th>\n",
       "      <th>HDI</th>\n",
       "      <th>continment</th>\n",
       "    </tr>\n",
       "  </thead>\n",
       "  <tbody>\n",
       "    <tr>\n",
       "      <th>Canada</th>\n",
       "      <td>35.467</td>\n",
       "      <td>1785387</td>\n",
       "      <td>9984670</td>\n",
       "      <td>0.913</td>\n",
       "      <td>America</td>\n",
       "    </tr>\n",
       "    <tr>\n",
       "      <th>France</th>\n",
       "      <td>63.951</td>\n",
       "      <td>2833687</td>\n",
       "      <td>640679</td>\n",
       "      <td>0.888</td>\n",
       "      <td>Europe</td>\n",
       "    </tr>\n",
       "    <tr>\n",
       "      <th>Germanay</th>\n",
       "      <td>80.940</td>\n",
       "      <td>3874437</td>\n",
       "      <td>357114</td>\n",
       "      <td>0.916</td>\n",
       "      <td>Europe</td>\n",
       "    </tr>\n",
       "    <tr>\n",
       "      <th>Italy</th>\n",
       "      <td>60.665</td>\n",
       "      <td>2167744</td>\n",
       "      <td>301336</td>\n",
       "      <td>0.873</td>\n",
       "      <td>Europe</td>\n",
       "    </tr>\n",
       "    <tr>\n",
       "      <th>Japan</th>\n",
       "      <td>127.061</td>\n",
       "      <td>4602367</td>\n",
       "      <td>377930</td>\n",
       "      <td>0.891</td>\n",
       "      <td>Asia</td>\n",
       "    </tr>\n",
       "    <tr>\n",
       "      <th>United Kingdom</th>\n",
       "      <td>64.511</td>\n",
       "      <td>2950039</td>\n",
       "      <td>242495</td>\n",
       "      <td>0.907</td>\n",
       "      <td>Europe</td>\n",
       "    </tr>\n",
       "    <tr>\n",
       "      <th>United States</th>\n",
       "      <td>318.523</td>\n",
       "      <td>17348075</td>\n",
       "      <td>9525067</td>\n",
       "      <td>0.915</td>\n",
       "      <td>America</td>\n",
       "    </tr>\n",
       "  </tbody>\n",
       "</table>\n",
       "</div>"
      ],
      "text/plain": [
       "                population       gdp  surface    HDI continment\n",
       "Canada              35.467   1785387  9984670  0.913    America\n",
       "France              63.951   2833687   640679  0.888     Europe\n",
       "Germanay            80.940   3874437   357114  0.916     Europe\n",
       "Italy               60.665   2167744   301336  0.873     Europe\n",
       "Japan              127.061   4602367   377930  0.891       Asia\n",
       "United Kingdom      64.511   2950039   242495  0.907     Europe\n",
       "United States      318.523  17348075  9525067  0.915    America"
      ]
     },
     "execution_count": 65,
     "metadata": {},
     "output_type": "execute_result"
    }
   ],
   "source": [
    "df.index = [\n",
    "    'Canada',\n",
    "    'France',\n",
    "    'Germanay',\n",
    "    'Italy',\n",
    "    'Japan',\n",
    "    'United Kingdom',\n",
    "    'United States'\n",
    "]\n",
    "\n",
    "df"
   ]
  },
  {
   "cell_type": "markdown",
   "id": "a21545d2",
   "metadata": {},
   "source": [
    "# Information about DataFrame"
   ]
  },
  {
   "cell_type": "code",
   "execution_count": 66,
   "id": "78f35f42",
   "metadata": {},
   "outputs": [
    {
     "name": "stdout",
     "output_type": "stream",
     "text": [
      "<class 'pandas.core.frame.DataFrame'>\n",
      "Index: 7 entries, Canada to United States\n",
      "Data columns (total 5 columns):\n",
      " #   Column      Non-Null Count  Dtype  \n",
      "---  ------      --------------  -----  \n",
      " 0   population  7 non-null      float64\n",
      " 1   gdp         7 non-null      int64  \n",
      " 2   surface     7 non-null      int64  \n",
      " 3   HDI         7 non-null      float64\n",
      " 4   continment  7 non-null      object \n",
      "dtypes: float64(2), int64(2), object(1)\n",
      "memory usage: 336.0+ bytes\n"
     ]
    }
   ],
   "source": [
    "df.info()"
   ]
  },
  {
   "cell_type": "markdown",
   "id": "95d08872",
   "metadata": {},
   "source": [
    "# Export DataFrame to csv or excel"
   ]
  },
  {
   "cell_type": "code",
   "execution_count": null,
   "id": "431f29e2",
   "metadata": {},
   "outputs": [],
   "source": [
    "df.to_csv('g7_df.csv') \n",
    "#df.to_excel('g7_df.xlsx')"
   ]
  },
  {
   "cell_type": "markdown",
   "id": "dd74f8a0",
   "metadata": {},
   "source": [
    "# Viewing Data "
   ]
  },
  {
   "cell_type": "code",
   "execution_count": 69,
   "id": "d0e9e756",
   "metadata": {},
   "outputs": [
    {
     "data": {
      "text/plain": [
       "(7, 5)"
      ]
     },
     "execution_count": 69,
     "metadata": {},
     "output_type": "execute_result"
    }
   ],
   "source": [
    "# Looking shape (row, column)\n",
    "\n",
    "df.shape"
   ]
  },
  {
   "cell_type": "code",
   "execution_count": 70,
   "id": "62cb9662",
   "metadata": {},
   "outputs": [
    {
     "data": {
      "text/html": [
       "<div>\n",
       "<style scoped>\n",
       "    .dataframe tbody tr th:only-of-type {\n",
       "        vertical-align: middle;\n",
       "    }\n",
       "\n",
       "    .dataframe tbody tr th {\n",
       "        vertical-align: top;\n",
       "    }\n",
       "\n",
       "    .dataframe thead th {\n",
       "        text-align: right;\n",
       "    }\n",
       "</style>\n",
       "<table border=\"1\" class=\"dataframe\">\n",
       "  <thead>\n",
       "    <tr style=\"text-align: right;\">\n",
       "      <th></th>\n",
       "      <th>population</th>\n",
       "      <th>gdp</th>\n",
       "      <th>surface</th>\n",
       "      <th>HDI</th>\n",
       "    </tr>\n",
       "  </thead>\n",
       "  <tbody>\n",
       "    <tr>\n",
       "      <th>count</th>\n",
       "      <td>7.000000</td>\n",
       "      <td>7.000000e+00</td>\n",
       "      <td>7.000000e+00</td>\n",
       "      <td>7.000000</td>\n",
       "    </tr>\n",
       "    <tr>\n",
       "      <th>mean</th>\n",
       "      <td>107.302571</td>\n",
       "      <td>5.080248e+06</td>\n",
       "      <td>3.061327e+06</td>\n",
       "      <td>0.900429</td>\n",
       "    </tr>\n",
       "    <tr>\n",
       "      <th>std</th>\n",
       "      <td>97.249970</td>\n",
       "      <td>5.494020e+06</td>\n",
       "      <td>4.576187e+06</td>\n",
       "      <td>0.016592</td>\n",
       "    </tr>\n",
       "    <tr>\n",
       "      <th>min</th>\n",
       "      <td>35.467000</td>\n",
       "      <td>1.785387e+06</td>\n",
       "      <td>2.424950e+05</td>\n",
       "      <td>0.873000</td>\n",
       "    </tr>\n",
       "    <tr>\n",
       "      <th>25%</th>\n",
       "      <td>62.308000</td>\n",
       "      <td>2.500716e+06</td>\n",
       "      <td>3.292250e+05</td>\n",
       "      <td>0.889500</td>\n",
       "    </tr>\n",
       "    <tr>\n",
       "      <th>50%</th>\n",
       "      <td>64.511000</td>\n",
       "      <td>2.950039e+06</td>\n",
       "      <td>3.779300e+05</td>\n",
       "      <td>0.907000</td>\n",
       "    </tr>\n",
       "    <tr>\n",
       "      <th>75%</th>\n",
       "      <td>104.000500</td>\n",
       "      <td>4.238402e+06</td>\n",
       "      <td>5.082873e+06</td>\n",
       "      <td>0.914000</td>\n",
       "    </tr>\n",
       "    <tr>\n",
       "      <th>max</th>\n",
       "      <td>318.523000</td>\n",
       "      <td>1.734808e+07</td>\n",
       "      <td>9.984670e+06</td>\n",
       "      <td>0.916000</td>\n",
       "    </tr>\n",
       "  </tbody>\n",
       "</table>\n",
       "</div>"
      ],
      "text/plain": [
       "       population           gdp       surface       HDI\n",
       "count    7.000000  7.000000e+00  7.000000e+00  7.000000\n",
       "mean   107.302571  5.080248e+06  3.061327e+06  0.900429\n",
       "std     97.249970  5.494020e+06  4.576187e+06  0.016592\n",
       "min     35.467000  1.785387e+06  2.424950e+05  0.873000\n",
       "25%     62.308000  2.500716e+06  3.292250e+05  0.889500\n",
       "50%     64.511000  2.950039e+06  3.779300e+05  0.907000\n",
       "75%    104.000500  4.238402e+06  5.082873e+06  0.914000\n",
       "max    318.523000  1.734808e+07  9.984670e+06  0.916000"
      ]
     },
     "execution_count": 70,
     "metadata": {},
     "output_type": "execute_result"
    }
   ],
   "source": [
    "# Summary of Data \n",
    "\n",
    "df.describe()"
   ]
  },
  {
   "cell_type": "code",
   "execution_count": 71,
   "id": "2152aba8",
   "metadata": {},
   "outputs": [],
   "source": [
    "df.to_csv('g7_df.csv')"
   ]
  },
  {
   "cell_type": "code",
   "execution_count": 72,
   "id": "954b6c41",
   "metadata": {},
   "outputs": [
    {
     "data": {
      "text/plain": [
       "population    float64\n",
       "gdp             int64\n",
       "surface         int64\n",
       "HDI           float64\n",
       "continment     object\n",
       "dtype: object"
      ]
     },
     "execution_count": 72,
     "metadata": {},
     "output_type": "execute_result"
    }
   ],
   "source": [
    "# Looking data type\n",
    "\n",
    "df.dtypes"
   ]
  },
  {
   "cell_type": "markdown",
   "id": "6ee207d1",
   "metadata": {},
   "source": [
    "# Looking Through index \n",
    "- required `.loc` attributes \n",
    "- `Select Individual Row`"
   ]
  },
  {
   "cell_type": "code",
   "execution_count": 79,
   "id": "05d202c4",
   "metadata": {},
   "outputs": [
    {
     "data": {
      "text/plain": [
       "population     35.467\n",
       "gdp           1785387\n",
       "surface       9984670\n",
       "HDI             0.913\n",
       "continment    America\n",
       "Name: Canada, dtype: object"
      ]
     },
     "execution_count": 79,
     "metadata": {},
     "output_type": "execute_result"
    }
   ],
   "source": [
    "df.loc['Canada'] "
   ]
  },
  {
   "cell_type": "markdown",
   "id": "91589480",
   "metadata": {},
   "source": [
    "# Looking Through Column \n",
    "- not required attributes\n",
    "- `Select entire column`"
   ]
  },
  {
   "cell_type": "markdown",
   "id": "9d0ef618",
   "metadata": {},
   "source": [
    "# Data Visualiztaion"
   ]
  },
  {
   "cell_type": "code",
   "execution_count": 97,
   "id": "089cc4e6",
   "metadata": {},
   "outputs": [
    {
     "data": {
      "text/plain": [
       "<AxesSubplot: >"
      ]
     },
     "execution_count": 97,
     "metadata": {},
     "output_type": "execute_result"
    },
    {
     "data": {
      "image/png": "[encoded data removed]",
      "text/plain": [
       "<Figure size 640x480 with 1 Axes>"
      ]
     },
     "metadata": {},
     "output_type": "display_data"
    }
   ],
   "source": [
    "df['population'].plot(kind='box') # Numerical Data "
   ]
  },
  {
   "cell_type": "code",
   "execution_count": 95,
   "id": "38588865",
   "metadata": {},
   "outputs": [
    {
     "data": {
      "text/plain": [
       "<AxesSubplot: >"
      ]
     },
     "execution_count": 95,
     "metadata": {},
     "output_type": "execute_result"
    },
    {
     "data": {
      "image/png": "[encoded data removed]",
      "text/plain": [
       "<Figure size 640x480 with 1 Axes>"
      ]
     },
     "metadata": {},
     "output_type": "display_data"
    }
   ],
   "source": [
    "df['population'].plot(kind='bar') # Categorical Data "
   ]
  },
  {
   "cell_type": "markdown",
   "id": "f2b57ae6",
   "metadata": {},
   "source": [
    "# Visualization using matplotlib\n"
   ]
  },
  {
   "cell_type": "code",
   "execution_count": 116,
   "id": "8fe3a12f",
   "metadata": {},
   "outputs": [
    {
     "data": {
      "text/plain": [
       "array([ 1785387,  2833687,  3874437,  2167744,  4602367,  2950039,\n",
       "       17348075])"
      ]
     },
     "execution_count": 116,
     "metadata": {},
     "output_type": "execute_result"
    }
   ],
   "source": [
    "df['population'].values"
   ]
  },
  {
   "cell_type": "code",
   "execution_count": 117,
   "id": "db1e77ee",
   "metadata": {},
   "outputs": [
    {
     "data": {
      "text/plain": [
       "Index(['Canada', 'France', 'Germanay', 'Italy', 'Japan', 'United Kingdom',\n",
       "       'United States'],\n",
       "      dtype='object')"
      ]
     },
     "execution_count": 117,
     "metadata": {},
     "output_type": "execute_result"
    }
   ],
   "source": [
    "df.index"
   ]
  },
  {
   "cell_type": "code",
   "execution_count": 124,
   "id": "a95f8943",
   "metadata": {},
   "outputs": [
    {
     "data": {
      "text/plain": [
       "'\\nradius 1.5 ==> size 0.5 time larger than original pie chart\\n%.1f       ==>  mean decimal one position and %% mean adding percent sign behind the number\\nExplodr    ==> Slicing pie chart\\n'"
      ]
     },
     "execution_count": 124,
     "metadata": {},
     "output_type": "execute_result"
    },
    {
     "data": {
      "image/png": "[encoded data removed]",
      "text/plain": [
       "<Figure size 640x480 with 1 Axes>"
      ]
     },
     "metadata": {},
     "output_type": "display_data"
    }
   ],
   "source": [
    "# Visualization using matplotlib\n",
    "\n",
    "\n",
    "population = df['population'].values\n",
    "#population = df['HDI'].values\n",
    "label = df.index\n",
    "\n",
    "\n",
    "plt.pie(population,labels=label, radius=1.5, autopct='%.1f%%', \n",
    "        explode=[0.1,0.1,0.1,0.2,0.1,0.1,0.1], shadow=True)\n",
    "        \n",
    "\n",
    "\"\"\"\n",
    "radius 1.5 ==> size 0.5 time larger than original pie chart\n",
    "%.1f       ==>  mean decimal one position and %% mean adding percent sign behind the number\n",
    "Explodr    ==> Slicing pie chart\n",
    "\"\"\"\n",
    "\n"
   ]
  },
  {
   "cell_type": "code",
   "execution_count": 131,
   "id": "cca72ff7",
   "metadata": {},
   "outputs": [
    {
     "data": {
      "text/plain": [
       "<BarContainer object of 7 artists>"
      ]
     },
     "execution_count": 131,
     "metadata": {},
     "output_type": "execute_result"
    },
    {
     "data": {
      "image/png": "[encoded data removed]",
      "text/plain": [
       "<Figure size 640x480 with 1 Axes>"
      ]
     },
     "metadata": {},
     "output_type": "display_data"
    }
   ],
   "source": [
    "# Bar Chart using matplotlib\n",
    "\n",
    "plt.bar(label, height=population)"
   ]
  },
  {
   "cell_type": "markdown",
   "id": "d28528dd",
   "metadata": {},
   "source": [
    "# Conditional Selection (DataFrame)\n"
   ]
  },
  {
   "cell_type": "code",
   "execution_count": 133,
   "id": "6ba63529",
   "metadata": {},
   "outputs": [
    {
     "data": {
      "text/html": [
       "<div>\n",
       "<style scoped>\n",
       "    .dataframe tbody tr th:only-of-type {\n",
       "        vertical-align: middle;\n",
       "    }\n",
       "\n",
       "    .dataframe tbody tr th {\n",
       "        vertical-align: top;\n",
       "    }\n",
       "\n",
       "    .dataframe thead th {\n",
       "        text-align: right;\n",
       "    }\n",
       "</style>\n",
       "<table border=\"1\" class=\"dataframe\">\n",
       "  <thead>\n",
       "    <tr style=\"text-align: right;\">\n",
       "      <th></th>\n",
       "      <th>population</th>\n",
       "      <th>gdp</th>\n",
       "      <th>surface</th>\n",
       "      <th>HDI</th>\n",
       "      <th>continment</th>\n",
       "    </tr>\n",
       "  </thead>\n",
       "  <tbody>\n",
       "    <tr>\n",
       "      <th>Canada</th>\n",
       "      <td>35.467</td>\n",
       "      <td>1785387</td>\n",
       "      <td>9984670</td>\n",
       "      <td>0.913</td>\n",
       "      <td>America</td>\n",
       "    </tr>\n",
       "    <tr>\n",
       "      <th>France</th>\n",
       "      <td>63.951</td>\n",
       "      <td>2833687</td>\n",
       "      <td>640679</td>\n",
       "      <td>0.888</td>\n",
       "      <td>Europe</td>\n",
       "    </tr>\n",
       "    <tr>\n",
       "      <th>Germanay</th>\n",
       "      <td>80.940</td>\n",
       "      <td>3874437</td>\n",
       "      <td>357114</td>\n",
       "      <td>0.916</td>\n",
       "      <td>Europe</td>\n",
       "    </tr>\n",
       "    <tr>\n",
       "      <th>Italy</th>\n",
       "      <td>60.665</td>\n",
       "      <td>2167744</td>\n",
       "      <td>301336</td>\n",
       "      <td>0.873</td>\n",
       "      <td>Europe</td>\n",
       "    </tr>\n",
       "    <tr>\n",
       "      <th>Japan</th>\n",
       "      <td>127.061</td>\n",
       "      <td>4602367</td>\n",
       "      <td>377930</td>\n",
       "      <td>0.891</td>\n",
       "      <td>Asia</td>\n",
       "    </tr>\n",
       "    <tr>\n",
       "      <th>United Kingdom</th>\n",
       "      <td>64.511</td>\n",
       "      <td>2950039</td>\n",
       "      <td>242495</td>\n",
       "      <td>0.907</td>\n",
       "      <td>Europe</td>\n",
       "    </tr>\n",
       "    <tr>\n",
       "      <th>United States</th>\n",
       "      <td>318.523</td>\n",
       "      <td>17348075</td>\n",
       "      <td>9525067</td>\n",
       "      <td>0.915</td>\n",
       "      <td>America</td>\n",
       "    </tr>\n",
       "  </tbody>\n",
       "</table>\n",
       "</div>"
      ],
      "text/plain": [
       "                population       gdp  surface    HDI continment\n",
       "Canada              35.467   1785387  9984670  0.913    America\n",
       "France              63.951   2833687   640679  0.888     Europe\n",
       "Germanay            80.940   3874437   357114  0.916     Europe\n",
       "Italy               60.665   2167744   301336  0.873     Europe\n",
       "Japan              127.061   4602367   377930  0.891       Asia\n",
       "United Kingdom      64.511   2950039   242495  0.907     Europe\n",
       "United States      318.523  17348075  9525067  0.915    America"
      ]
     },
     "execution_count": 133,
     "metadata": {},
     "output_type": "execute_result"
    }
   ],
   "source": [
    "df"
   ]
  },
  {
   "cell_type": "code",
   "execution_count": 134,
   "id": "cee59021",
   "metadata": {},
   "outputs": [
    {
     "data": {
      "text/plain": [
       "Canada            False\n",
       "France            False\n",
       "Germanay           True\n",
       "Italy             False\n",
       "Japan              True\n",
       "United Kingdom    False\n",
       "United States      True\n",
       "Name: population, dtype: bool"
      ]
     },
     "execution_count": 134,
     "metadata": {},
     "output_type": "execute_result"
    }
   ],
   "source": [
    "# Only Boolean return\n",
    "df['population']> 70"
   ]
  },
  {
   "cell_type": "code",
   "execution_count": 138,
   "id": "9188ebac",
   "metadata": {},
   "outputs": [
    {
     "data": {
      "text/html": [
       "<div>\n",
       "<style scoped>\n",
       "    .dataframe tbody tr th:only-of-type {\n",
       "        vertical-align: middle;\n",
       "    }\n",
       "\n",
       "    .dataframe tbody tr th {\n",
       "        vertical-align: top;\n",
       "    }\n",
       "\n",
       "    .dataframe thead th {\n",
       "        text-align: right;\n",
       "    }\n",
       "</style>\n",
       "<table border=\"1\" class=\"dataframe\">\n",
       "  <thead>\n",
       "    <tr style=\"text-align: right;\">\n",
       "      <th></th>\n",
       "      <th>population</th>\n",
       "      <th>gdp</th>\n",
       "      <th>surface</th>\n",
       "      <th>HDI</th>\n",
       "      <th>continment</th>\n",
       "    </tr>\n",
       "  </thead>\n",
       "  <tbody>\n",
       "    <tr>\n",
       "      <th>Germanay</th>\n",
       "      <td>80.940</td>\n",
       "      <td>3874437</td>\n",
       "      <td>357114</td>\n",
       "      <td>0.916</td>\n",
       "      <td>Europe</td>\n",
       "    </tr>\n",
       "    <tr>\n",
       "      <th>Japan</th>\n",
       "      <td>127.061</td>\n",
       "      <td>4602367</td>\n",
       "      <td>377930</td>\n",
       "      <td>0.891</td>\n",
       "      <td>Asia</td>\n",
       "    </tr>\n",
       "    <tr>\n",
       "      <th>United States</th>\n",
       "      <td>318.523</td>\n",
       "      <td>17348075</td>\n",
       "      <td>9525067</td>\n",
       "      <td>0.915</td>\n",
       "      <td>America</td>\n",
       "    </tr>\n",
       "  </tbody>\n",
       "</table>\n",
       "</div>"
      ],
      "text/plain": [
       "               population       gdp  surface    HDI continment\n",
       "Germanay           80.940   3874437   357114  0.916     Europe\n",
       "Japan             127.061   4602367   377930  0.891       Asia\n",
       "United States     318.523  17348075  9525067  0.915    America"
      ]
     },
     "execution_count": 138,
     "metadata": {},
     "output_type": "execute_result"
    }
   ],
   "source": [
    "# For detail retrun (df.loc return rows)\n",
    "df.loc[df['population']>70]"
   ]
  },
  {
   "cell_type": "code",
   "execution_count": null,
   "id": "494fee54",
   "metadata": {},
   "outputs": [],
   "source": []
  }
 ],
 "metadata": {
  "kernelspec": {
   "display_name": "Python 3 (ipykernel)",
   "language": "python",
   "name": "python3"
  },
  "language_info": {
   "codemirror_mode": {
    "name": "ipython",
    "version": 3
   },
   "file_extension": ".py",
   "mimetype": "text/x-python",
   "name": "python",
   "nbconvert_exporter": "python",
   "pygments_lexer": "ipython3",
   "version": "3.10.9"
  }
 },
 "nbformat": 4,
 "nbformat_minor": 5
}
